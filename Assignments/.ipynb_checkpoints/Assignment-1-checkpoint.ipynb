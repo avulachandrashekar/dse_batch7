{
 "cells": [
  {
   "cell_type": "markdown",
   "metadata": {},
   "source": [
    "<h1> Question 1: Find sum of digits</h1>"
   ]
  },
  {
   "cell_type": "code",
   "execution_count": 5,
   "metadata": {
    "scrolled": true
   },
   "outputs": [
    {
     "name": "stdout",
     "output_type": "stream",
     "text": [
      "Enter digits to sum -> 23453\n",
      "Sum of digits is ->  17\n"
     ]
    }
   ],
   "source": [
    "digits = input(\"Enter number to sum -> \")\n",
    "finalSum = 0\n",
    "for digit in digits:\n",
    "    finalSum = finalSum + int(digit)\n",
    "print('Sum of digits is -> ', finalSum)"
   ]
  },
  {
   "cell_type": "markdown",
   "metadata": {},
   "source": [
    "<h1>Question 2: Given a number, check whether the given number is an\n",
    "Armstrong number or not.</h1>"
   ]
  },
  {
   "cell_type": "code",
   "execution_count": 1,
   "metadata": {},
   "outputs": [],
   "source": [
    "def powerOf(number, order):\n",
    "    if (number == 0):\n",
    "        return 0\n",
    "    poweredNumber = 1\n",
    "    for i in range(order):\n",
    "        poweredNumber = poweredNumber * number\n",
    "    return poweredNumber"
   ]
  },
  {
   "cell_type": "code",
   "execution_count": 12,
   "metadata": {
    "scrolled": false
   },
   "outputs": [
    {
     "name": "stdout",
     "output_type": "stream",
     "text": [
      "Enter the number: 370\n",
      "Enter the order: 3\n",
      "Is 370 a Armstrong Number of the order 3 -> True\n"
     ]
    }
   ],
   "source": [
    "input_number = input(\"Enter the number: \")\n",
    "input_order = int(input(\"Enter the order: \"))\n",
    "\n",
    "ArmstrongNumber = 0\n",
    "       \n",
    "for digit in input_number:\n",
    "    ArmstrongNumber = ArmstrongNumber + powerOf(int(digit), input_order)\n",
    "\n",
    "print(\"Is {0} a Armstrong Number of the order {1} -> {2}\".format(input_number, input_order, ArmstrongNumber == int(input_number)))\n"
   ]
  },
  {
   "cell_type": "markdown",
   "metadata": {},
   "source": [
    "<h1> Question 3: Given a string, write a python function to check if it is\n",
    "palindrome or not.</h1>"
   ]
  },
  {
   "cell_type": "code",
   "execution_count": 1,
   "metadata": {},
   "outputs": [
    {
     "name": "stdout",
     "output_type": "stream",
     "text": [
      "Enter a string to check for palindrome -> malayalam\n",
      "Is malayalam a palindrome -> True\n"
     ]
    }
   ],
   "source": [
    "input_string = input('Enter a string to check for palindrome -> ')\n",
    "\n",
    "string_length = len(input_string)\n",
    "mid_point = int(string_length / 2)\n",
    "\n",
    "isPalindrome = True\n",
    "\n",
    "for i in range(mid_point):\n",
    "    if(input_string[i] != input_string[-1 * (i + 1)]):\n",
    "        isPalindrome = False\n",
    "        break\n",
    "        \n",
    "print('Is {0} a palindrome -> {1}'.format(input_string, isPalindrome))\n",
    "\n"
   ]
  },
  {
   "cell_type": "markdown",
   "metadata": {},
   "source": [
    "<h1> Question 4: Given an array which may contain duplicates, print all elements\n",
    "and their frequencies. </h1>"
   ]
  },
  {
   "cell_type": "code",
   "execution_count": null,
   "metadata": {},
   "outputs": [],
   "source": [
    "input_array = input('Enter comma separated elements of the array :').split(',')\n",
    "\n",
    "count_dictionary = {}\n",
    "\n",
    "for array_element in input_array:\n",
    "    if  count_dictionary.get(array_element) == None:\n",
    "        count_dictionary[array_element] = 1\n",
    "    else:\n",
    "        count_dictionary[array_element] = count_dictionary[array_element] + 1     \n",
    "\n",
    "for result in count_dictionary.items():\n",
    "    print('Element {0} is found {1} times'.format(result[0], result[1]))"
   ]
  },
  {
   "cell_type": "markdown",
   "metadata": {},
   "source": [
    "<h1> Question 5: Given a number n, write a function to print all prime factors of\n",
    "n. For example, if the input number is 12, then output should be\n",
    "“2 2 3” </h1>"
   ]
  },
  {
   "cell_type": "code",
   "execution_count": 24,
   "metadata": {},
   "outputs": [],
   "source": [
    "def getFirstPrimeFactor(number):\n",
    "    for i in range(2, number + 1):\n",
    "        if (number % i == 0):\n",
    "            return (i, int(number/i))"
   ]
  },
  {
   "cell_type": "code",
   "execution_count": 25,
   "metadata": {},
   "outputs": [
    {
     "name": "stdout",
     "output_type": "stream",
     "text": [
      "Enter number to find prime factors: 36\n",
      "[2, 2, 3, 3]\n"
     ]
    }
   ],
   "source": [
    "input_number = int(input('Enter number to find prime factors: '))\n",
    "\n",
    "prime_factors = []\n",
    "divisible = input_number\n",
    "\n",
    "while(divisible > 1):\n",
    "    result = getFirstPrimeFactor(divisible)\n",
    "    divisible = result[1]\n",
    "    prime_factors.append(result[0])\n",
    "\n",
    "print(prime_factors)\n",
    "    "
   ]
  },
  {
   "cell_type": "markdown",
   "metadata": {},
   "source": [
    "<h1> Question 6: Given two numbers n and r, find the value of nCr </h1>"
   ]
  },
  {
   "cell_type": "code",
   "execution_count": 27,
   "metadata": {},
   "outputs": [],
   "source": [
    "def factorial(number):\n",
    "    if(number == 1):\n",
    "        return number;\n",
    "    return number * factorial(number - 1)"
   ]
  },
  {
   "cell_type": "code",
   "execution_count": 29,
   "metadata": {
    "scrolled": true
   },
   "outputs": [
    {
     "name": "stdout",
     "output_type": "stream",
     "text": [
      "Enter n: 10\n",
      "Enter r: 5\n",
      "Binomial Coefficient is 252.0\n"
     ]
    }
   ],
   "source": [
    "n = int(input('Enter n: '))\n",
    "r = int(input('Enter r: '))\n",
    "print ('Binomial Coefficient is {0}'.format(factorial(n) / (factorial(r) * factorial(n -r))))\n"
   ]
  },
  {
   "cell_type": "markdown",
   "metadata": {},
   "source": [
    "<h1> Question 7a: Searching: Given a sorted array arr[] of n elements, write a\n",
    "function to search a given element x in arr[]. Do it using linear\n",
    "and binary search techniques. </h1>"
   ]
  },
  {
   "cell_type": "code",
   "execution_count": null,
   "metadata": {},
   "outputs": [],
   "source": [
    "input_array = input(\"Enter comma separated sorted numbers\").split(',')\n",
    "input_number = int(input(\"Enter number to search\"))\n",
    "arr = [int(i) for i in input_array]\n",
    "isFound = False\n",
    "for number in arr:\n",
    "    if(input_number == number):\n",
    "        isFound = True\n",
    "        break\n",
    "\n",
    "print('Using Linear Search: Is {0} found in array {1} -> {2}'.format(input_number, input_array, isFound))\n"
   ]
  },
  {
   "cell_type": "markdown",
   "metadata": {},
   "source": [
    "<h1> Question 7b: Searching: Given a sorted array arr[] of n elements, write a\n",
    "function to search a given element x in arr[]. Do it using linear\n",
    "and binary search techniques. </h1>"
   ]
  },
  {
   "cell_type": "code",
   "execution_count": 5,
   "metadata": {},
   "outputs": [
    {
     "name": "stdout",
     "output_type": "stream",
     "text": [
      "Enter comma separated sorted numbers: 1,2,3,4\n",
      "Enter number to search: 2\n",
      "Using Binary Search: Is 2 found in array ['1', '2', '3', '4'] -> True\n"
     ]
    }
   ],
   "source": [
    "input_array = input(\"Enter comma separated sorted numbers: \").split(',')\n",
    "input_number = int(input(\"Enter number to search: \"))\n",
    "arr = [int(i) for i in input_array]\n",
    "isFound = False\n",
    "midPoint = int(len(arr)/2)\n",
    "currentArray = arr\n",
    "while (len(currentArray) > 0):\n",
    "        if (currentArray[midPoint] == input_number):\n",
    "            isFound = True\n",
    "            break\n",
    "        if (midPoint == 0):\n",
    "            break\n",
    "        if (currentArray[midPoint] < input_number):\n",
    "            currentArray = currentArray[midPoint:]\n",
    "        else:\n",
    "            currentArray = currentArray[:midPoint]\n",
    "        midPoint = int(len(currentArray)/2)\n",
    "\n",
    "print('Using Binary Search: Is {0} found in array {1} -> {2}'.format(input_number, input_array, isFound))"
   ]
  },
  {
   "cell_type": "markdown",
   "metadata": {},
   "source": [
    "<h1>Question 8: Input a text file (containing 1 or more paragraphs of English text) from the user, parse this file to display the frequency of occurrence of each word in this text file. Find the 3 most frequent words as well.</h1>"
   ]
  },
  {
   "cell_type": "code",
   "execution_count": 5,
   "metadata": {},
   "outputs": [
    {
     "name": "stdout",
     "output_type": "stream",
     "text": [
      "Enter the file path./Resources/TestData.txt\n",
      "3 most frequent words are: \n",
      "the\n",
      "are\n",
      "of\n",
      "Printing words with fequency\n",
      "Example -> 1\n",
      "There -> 1\n",
      "are -> 5\n",
      "three -> 1\n",
      "reasons -> 1\n",
      "why -> 1\n",
      "Canada -> 4\n",
      "is -> 2\n",
      "one -> 1\n",
      "of -> 5\n",
      "the -> 6\n",
      "best -> 1\n",
      "countries -> 1\n",
      "in -> 1\n",
      "world. -> 1\n",
      "First, -> 1\n",
      "has -> 2\n",
      "an -> 1\n",
      "excellent -> 1\n",
      "health -> 1\n",
      "care -> 1\n",
      "system. -> 1\n",
      "All -> 1\n",
      "Canadians -> 1\n",
      "have -> 2\n",
      "access -> 1\n",
      "to -> 5\n",
      "medical -> 1\n",
      "services -> 1\n",
      "at -> 2\n",
      "a -> 5\n",
      "reasonable -> 1\n",
      "price. -> 1\n",
      "Second, -> 1\n",
      "high -> 1\n",
      "standard -> 1\n",
      "education. -> 1\n",
      "Students -> 1\n",
      "taught -> 1\n",
      "by -> 1\n",
      "well-trained -> 1\n",
      "teachers -> 1\n",
      "and -> 5\n",
      "encouraged -> 1\n",
      "continue -> 1\n",
      "studying -> 1\n",
      "university. -> 1\n",
      "Finally, -> 1\n",
      "Canada's -> 1\n",
      "cities -> 2\n",
      "clean -> 1\n",
      "efficiently -> 1\n",
      "managed. -> 1\n",
      "Canadian -> 1\n",
      "many -> 1\n",
      "parks -> 1\n",
      "lots -> 1\n",
      "space -> 1\n",
      "for -> 1\n",
      "people -> 1\n",
      "live. -> 1\n",
      "As -> 1\n",
      "result, -> 1\n",
      "desirable -> 1\n",
      "place -> 1\n",
      "live.\n",
      " -> 1\n",
      "Supporting -> 1\n",
      "Details -> 1\n",
      "What -> 2\n",
      "supporting -> 2\n",
      "sentences? -> 1\n",
      "They -> 2\n",
      "come -> 1\n",
      "after -> 1\n",
      "topic -> 1\n",
      "sentence, -> 1\n",
      "making -> 1\n",
      "up -> 1\n",
      "body -> 1\n",
      "paragraph. -> 2\n",
      "do -> 2\n",
      "they -> 1\n",
      "do? -> 1\n",
      "give -> 2\n",
      "details -> 1\n",
      "develop -> 1\n",
      "support -> 1\n",
      "main -> 1\n",
      "idea -> 1\n",
      "How -> 1\n",
      "I -> 1\n",
      "write -> 1\n",
      "them? -> 1\n",
      "You -> 1\n",
      "should -> 1\n",
      "facts, -> 1\n",
      "details, -> 1\n",
      "examples. -> 1\n"
     ]
    }
   ],
   "source": [
    "import os\n",
    "import string\n",
    "\n",
    "text_file_path = input(\"Enter the file path\")\n",
    "\n",
    "if(not os.path.exists(text_file_path)):\n",
    "    raise Exception(\"{0} does not exists\".format(text_file_path))\n",
    "\n",
    "word_dict = {}\n",
    "text_lines = []\n",
    "\n",
    "with open(text_file_path, 'r') as f:\n",
    "    text_lines = f.readlines()\n",
    "\n",
    "for line in text_lines:\n",
    "    words = line.split(\" \")\n",
    "    for word in words:\n",
    "        if (word_dict.get(word) == None):\n",
    "            word_dict[word] = 1\n",
    "        else:\n",
    "            word_dict[word] = word_dict[word] + 1\n",
    "\n",
    "frequent_words = sorted(word_dict.items(), key=lambda x: x[1], reverse=True)[:3]\n",
    "\n",
    "print(\"3 most frequent words are: \")\n",
    "for freq_word in frequent_words:\n",
    "    print(freq_word[0])\n",
    "\n",
    "print(\"Printing words with fequency\")\n",
    "for word in word_dict.items():\n",
    "    print(\"{0} -> {1}\".format(word[0], word[1]))"
   ]
  },
  {
   "cell_type": "code",
   "execution_count": null,
   "metadata": {},
   "outputs": [],
   "source": []
  }
 ],
 "metadata": {
  "kernelspec": {
   "display_name": "Python 3",
   "language": "python",
   "name": "python3"
  },
  "language_info": {
   "codemirror_mode": {
    "name": "ipython",
    "version": 3
   },
   "file_extension": ".py",
   "mimetype": "text/x-python",
   "name": "python",
   "nbconvert_exporter": "python",
   "pygments_lexer": "ipython3",
   "version": "3.8.3"
  }
 },
 "nbformat": 4,
 "nbformat_minor": 4
}
